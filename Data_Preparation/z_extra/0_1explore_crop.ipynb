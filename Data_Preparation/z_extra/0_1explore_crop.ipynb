{
 "cells": [
  {
   "cell_type": "markdown",
   "id": "0ef00bb3-01bf-4787-a341-b808c6960047",
   "metadata": {},
   "source": [
    "# Training feature selection"
   ]
  },
  {
   "cell_type": "markdown",
   "id": "b859405c-985a-4659-b430-4fed3a097c61",
   "metadata": {},
   "source": [
    "## Description\n",
    "\n",
    "...\n"
   ]
  },
  {
   "cell_type": "markdown",
   "id": "2a802cd5-b9f8-4a64-9ab2-9ef9bc3f093a",
   "metadata": {},
   "source": [
    "## Getting started\n",
    "To run this analysis, run all the cells in the notebook, starting with the \"Load packages\" cell."
   ]
  },
  {
   "cell_type": "markdown",
   "id": "f40b8a09-b68a-47d2-903d-60c9af6483bf",
   "metadata": {},
   "source": [
    "### Load packages"
   ]
  },
  {
   "cell_type": "code",
   "execution_count": 1,
   "id": "b88f8ae5-f838-4e93-9f3d-dadd4ada8f4b",
   "metadata": {},
   "outputs": [],
   "source": [
    "import os\n",
    "os.environ['USE_PYGEOS'] = '0'\n",
    "import geopandas as gpd\n",
    "\n",
    "import json\n",
    "from collections import Counter\n",
    "from pprint import pprint\n",
    "\n",
    "import matplotlib.pyplot as plt\n",
    "import matplotlib.colors as mcolors\n",
    "from matplotlib.lines import Line2D\n",
    "\n",
    "import numpy as np\n",
    "import pandas as pd\n",
    "from joblib import dump\n",
    "\n",
    "import seaborn as sns\n",
    "import matplotlib.pyplot as plt\n",
    "from datetime import datetime\n",
    "import itertools\n",
    "\n",
    "import warnings  # Import the warnings module\n",
    "\n",
    "import matplotlib.colors as mcolors\n",
    "\n",
    "from statsmodels.stats.outliers_influence import variance_inflation_factor"
   ]
  },
  {
   "cell_type": "code",
   "execution_count": 2,
   "id": "0df45bcf",
   "metadata": {},
   "outputs": [],
   "source": [
    "# Maize, SoyaBeans, Sunflower\n",
    "# Pasture, Fallow, Tree,\n",
    "# Wheat, Sorghum, Groundnuts, Lucern,\n",
    "# WheatMaize,WheatSunflower,WheatSoya\n",
    "crop_selected = 'WheatSoya'"
   ]
  },
  {
   "cell_type": "markdown",
   "id": "2ec9e32e-be5c-41ae-9089-a5d3115e0750",
   "metadata": {},
   "source": [
    "## Load training data and label dictionary\n",
    "\n",
    "We will load the training data saved from the [feature extracion notebook](3_Training_feature_extraction.ipynb), along with the mapping between crop labels and the numerical classes."
   ]
  },
  {
   "cell_type": "code",
   "execution_count": null,
   "id": "94b8202d",
   "metadata": {},
   "outputs": [
    {
     "ename": "",
     "evalue": "",
     "output_type": "error",
     "traceback": [
      "\u001b[1;31mThe Kernel crashed while executing code in the current cell or a previous cell. \n",
      "\u001b[1;31mPlease review the code in the cell(s) to identify a possible cause of the failure. \n",
      "\u001b[1;31mClick <a href='https://aka.ms/vscodeJupyterKernelCrash'>here</a> for more info. \n",
      "\u001b[1;31mView Jupyter <a href='command:jupyter.viewOutput'>log</a> for further details."
     ]
    }
   ],
   "source": [
    "dataset_name1 = 'sb16_17';\n",
    "dataset_name2 = 'sb17_18';\n",
    "dataset_name3 = 'sb18_19';\n",
    "dataset_name4 = 'sb19_20';\n",
    "dataset_name5 = 'sb20_21';\n",
    "\n",
    "dataset_suffix = '_tree_cleaned';\n",
    "\n",
    "predictor_column = 6; # Column where we start selecting the predictors\n",
    "ndvi_threshold = 0; # NDVI min Threshold"
   ]
  },
  {
   "cell_type": "code",
   "execution_count": null,
   "id": "504feea7",
   "metadata": {},
   "outputs": [
    {
     "name": "stdout",
     "output_type": "stream",
     "text": [
      "Number of rows: 14749502\n"
     ]
    }
   ],
   "source": [
    "\n",
    "base_path = 'Input'\n",
    "output_file1 = os.path.join(base_path, f'{dataset_name1}{dataset_suffix}.csv')\n",
    "output_file2 = os.path.join(base_path, f'{dataset_name2}{dataset_suffix}.csv')\n",
    "output_file3 = os.path.join(base_path, f'{dataset_name3}{dataset_suffix}.csv')\n",
    "output_file4 = os.path.join(base_path, f'{dataset_name4}{dataset_suffix}.csv')\n",
    "output_file5 = os.path.join(base_path, f'{dataset_name5}{dataset_suffix}.csv')\n",
    "# Load the newly generated CSV file\n",
    "df1 = pd.read_csv(output_file1)\n",
    "df2 = pd.read_csv(output_file2)\n",
    "df3 = pd.read_csv(output_file3)\n",
    "df4 = pd.read_csv(output_file4)\n",
    "df5 = pd.read_csv(output_file5)\n",
    "# add df1 to df\n",
    "df = pd.concat([df1,df2,df3,df4,df5], ignore_index=True)\n",
    "# print the number of rows\n",
    "print(f\"Number of rows: {len(df)}\")\n",
    "df = df.dropna()\n",
    "print(df.shape)"
   ]
  },
  {
   "cell_type": "code",
   "execution_count": null,
   "id": "6ad0d8fd",
   "metadata": {},
   "outputs": [],
   "source": [
    "df = df[df[\"Crop_type\"] == crop_selected]\n",
    "print(f\"Number of rows: {len(df)}\")"
   ]
  },
  {
   "cell_type": "code",
   "execution_count": null,
   "id": "28fd9a97",
   "metadata": {},
   "outputs": [],
   "source": [
    "# Visualize the features in the dataset\n",
    "features = df.columns\n",
    "# Print the number of predictors\n",
    "print(f'The number of features is: {len(features)}')\n",
    "# List the potential predictors\n",
    "print(features)"
   ]
  },
  {
   "cell_type": "code",
   "execution_count": null,
   "id": "44ca557b",
   "metadata": {},
   "outputs": [],
   "source": [
    "# print unique values in 'Irrigation' and their counts\n",
    "print(df['Irrigation'].value_counts())"
   ]
  },
  {
   "cell_type": "code",
   "execution_count": null,
   "id": "07d9caca",
   "metadata": {},
   "outputs": [],
   "source": [
    "# add a new column 'Irrigation_code' to the dataframe, 1 for Irrigated and 0 for Rainfed\n",
    "df['Irrigation_code'] = df['Irrigation'].apply(lambda x: 1 if x == 'Irrigated' else 0) \n",
    "# print the number of rows with Irrigation_code = 1\n",
    "print(f\"Number of rows with Irrigation_code = 1: {len(df[df['Irrigation_code'] == 1])}\")\n",
    "# print the number of rows with Irrigation_code = 0\n",
    "print(f\"Number of rows with Irrigation_code = 0: {len(df[df['Irrigation_code'] == 0])}\")"
   ]
  },
  {
   "cell_type": "code",
   "execution_count": null,
   "id": "f3cee8f3",
   "metadata": {},
   "outputs": [],
   "source": [
    "# Visualize the features in the dataset\n",
    "features = df.columns\n",
    "# Print the number of predictors\n",
    "print(f'The number of features is: {len(features)}')\n",
    "# List the potential predictors\n",
    "print(features)"
   ]
  },
  {
   "cell_type": "code",
   "execution_count": null,
   "id": "172d7a22",
   "metadata": {},
   "outputs": [],
   "source": [
    "# Investigate value counts for each class in Crop_type\n",
    "print(df['Crop_type'].value_counts())"
   ]
  },
  {
   "cell_type": "code",
   "execution_count": null,
   "id": "267b5a58",
   "metadata": {},
   "outputs": [],
   "source": [
    "# separate df irrigated and rainfed\n",
    "df_irrigated = df[df[\"Irrigation\"] == \"Irrigated\"]\n",
    "df_rainfed = df[df[\"Irrigation\"] == \"Rainfed\"]\n",
    "# print the number of rows in each dataframe\n",
    "print(f\"Number of rows in df_irrigated: {len(df_irrigated)}\")\n",
    "print(f\"Number of rows in df_rainfed: {len(df_rainfed)}\")"
   ]
  },
  {
   "cell_type": "code",
   "execution_count": null,
   "id": "a37b5906",
   "metadata": {},
   "outputs": [],
   "source": [
    "# --- Common preprocessing function ---\n",
    "def preprocess(df):\n",
    "    df = df.copy()\n",
    "    df[\"week\"] = pd.to_numeric(df[\"week\"], errors=\"coerce\")\n",
    "    df[\"veg_mean_ndvi\"] = pd.to_numeric(df[\"veg_mean_ndvi\"], errors=\"coerce\")\n",
    "    df[\"Year\"] = pd.to_numeric(df[\"Year\"], errors=\"coerce\")\n",
    "    df = df.dropna(subset=[\"Year\", \"week\"])\n",
    "    df = df[df[\"week\"] > 0]\n",
    "\n",
    "    def iso_to_date(year, week):\n",
    "        try:\n",
    "            return datetime.fromisocalendar(int(year), int(week), 1)\n",
    "        except:\n",
    "            return pd.NaT\n",
    "\n",
    "    df[\"date\"] = df.apply(lambda row: iso_to_date(row[\"Year\"], row[\"week\"]), axis=1)\n",
    "    return df.dropna(subset=[\"date\"])\n",
    "\n",
    "# --- Preprocess both datasets ---\n",
    "df_irrigated_clean = preprocess(df_irrigated)\n",
    "df_rainfed_clean = preprocess(df_rainfed)\n",
    "\n",
    "# --- Group and average by date ---\n",
    "avg_irrigated = df_irrigated_clean.groupby(\"date\", as_index=False)[\"veg_mean_ndvi\"].mean()\n",
    "avg_rainfed = df_rainfed_clean.groupby(\"date\", as_index=False)[\"veg_mean_ndvi\"].mean()\n",
    "\n",
    "\n",
    "# --- Plotting ---\n",
    "plt.figure(figsize=(14, 7))\n",
    "\n",
    "# Rainfed line\n",
    "plt.plot(\n",
    "    avg_rainfed[\"date\"].to_numpy(),\n",
    "    avg_rainfed[\"veg_mean_ndvi\"].to_numpy(),\n",
    "    marker=\"s\",\n",
    "    linestyle=\"--\",\n",
    "    color=\"orange\",\n",
    "    label=f\"Rainfed\"\n",
    ")\n",
    "\n",
    "# Irrigated line\n",
    "plt.plot(\n",
    "    avg_irrigated[\"date\"].to_numpy(),\n",
    "    avg_irrigated[\"veg_mean_ndvi\"].to_numpy(),\n",
    "    marker=\"o\",\n",
    "    linestyle=\"-\",\n",
    "    color=\"blue\",\n",
    "    label=f\"Irrigated\"\n",
    ")\n",
    "\n",
    "plt.xlabel(\"Date\")\n",
    "plt.ylabel(\"Average veg_mean_ndvi\")\n",
    "plt.title(f\"NDVI Time Series for {crop_selected} (Irrigated vs. Rainfed)\")\n",
    "plt.legend()\n",
    "plt.grid(True)\n",
    "plt.tight_layout()\n",
    "plt.ylim(0.1, 0.8)\n",
    "plt.show()"
   ]
  },
  {
   "cell_type": "code",
   "execution_count": null,
   "id": "53615b67",
   "metadata": {},
   "outputs": [],
   "source": [
    "# Make a safe copy to avoid SettingWithCopyWarning\n",
    "df_rainfed = df_rainfed.copy()\n",
    "\n",
    "# Ensure 'week', 'veg_mean_ndvi', and 'Year' are numeric\n",
    "df_rainfed[\"week\"] = pd.to_numeric(df_rainfed[\"week\"], errors=\"coerce\")\n",
    "df_rainfed[\"veg_mean_ndvi\"] = pd.to_numeric(df_rainfed[\"veg_mean_ndvi\"], errors=\"coerce\")\n",
    "df_rainfed[\"Year\"] = pd.to_numeric(df_rainfed[\"Year\"], errors=\"coerce\")\n",
    "\n",
    "# Compute average NDVI for crop_selected only, per Year and Week\n",
    "avg_ndvi_crop_selected = df_rainfed.groupby([\"Year\", \"week\"], as_index=False)[\"veg_mean_ndvi\"].mean()\n",
    "\n",
    "# Create the plot\n",
    "plt.figure(figsize=(14, 7))\n",
    "\n",
    "# Line styles and color map\n",
    "linestyles = itertools.cycle([\"-\", \"--\", \"-.\", \":\"])\n",
    "colors = plt.cm.tab10.colors\n",
    "\n",
    "# Plot crop_selected per year\n",
    "for i, year in enumerate(avg_ndvi_crop_selected[\"Year\"].unique()):\n",
    "    subset = avg_ndvi_crop_selected[avg_ndvi_crop_selected[\"Year\"] == year].sort_values(\"week\")\n",
    "    weeks = subset[\"week\"].values\n",
    "    ndvi_values = subset[\"veg_mean_ndvi\"].values\n",
    "\n",
    "    plt.plot(\n",
    "        weeks,\n",
    "        ndvi_values,\n",
    "        marker=\"o\",\n",
    "        linestyle=next(linestyles),\n",
    "        color=colors[i % len(colors)],\n",
    "        label=f\"{int(year)}\"\n",
    "\n",
    "    )\n",
    "\n",
    "# Customize the plot\n",
    "plt.xlabel(\"Week\")\n",
    "plt.ylabel(\"Average veg_mean_ndvi\")\n",
    "plt.title(\"Weekly Average veg_mean_ndvi for \"+crop_selected+\" Rainfed (by Year)\")\n",
    "plt.legend(title=\"Year\", loc='upper right', frameon=True)\n",
    "plt.grid(True)\n",
    "plt.tight_layout()\n",
    "plt.ylim(.1, .8)\n",
    "\n",
    "\n",
    "# Show the plot\n",
    "plt.show()\n"
   ]
  },
  {
   "cell_type": "code",
   "execution_count": null,
   "id": "53dfc933",
   "metadata": {},
   "outputs": [],
   "source": [
    "# Make a safe copy to avoid SettingWithCopyWarning\n",
    "df_irrigated = df_irrigated.copy()\n",
    "\n",
    "# Ensure 'week', 'veg_mean_ndvi', and 'Year' are numeric\n",
    "df_irrigated[\"week\"] = pd.to_numeric(df_irrigated[\"week\"], errors=\"coerce\")\n",
    "df_irrigated[\"veg_mean_ndvi\"] = pd.to_numeric(df_irrigated[\"veg_mean_ndvi\"], errors=\"coerce\")\n",
    "df_irrigated[\"Year\"] = pd.to_numeric(df_irrigated[\"Year\"], errors=\"coerce\")\n",
    "\n",
    "# Compute average NDVI for crop_selected only, per Year and Week\n",
    "avg_ndvi_crop_selected = df_irrigated.groupby([\"Year\", \"week\"], as_index=False)[\"veg_mean_ndvi\"].mean()\n",
    "\n",
    "# Create the plot\n",
    "plt.figure(figsize=(14, 7))\n",
    "\n",
    "# Line styles and color map\n",
    "linestyles = itertools.cycle([\"-\", \"--\", \"-.\", \":\"])\n",
    "colors = plt.cm.tab10.colors\n",
    "\n",
    "# Plot crop_selected per year\n",
    "for i, year in enumerate(avg_ndvi_crop_selected[\"Year\"].unique()):\n",
    "    subset = avg_ndvi_crop_selected[avg_ndvi_crop_selected[\"Year\"] == year].sort_values(\"week\")\n",
    "    weeks = subset[\"week\"].values\n",
    "    ndvi_values = subset[\"veg_mean_ndvi\"].values\n",
    "\n",
    "    plt.plot(\n",
    "        weeks,\n",
    "        ndvi_values,\n",
    "        marker=\"o\",\n",
    "        linestyle=next(linestyles),\n",
    "        color=colors[i % len(colors)],\n",
    "        label=f\"{int(year)}\"\n",
    "\n",
    "    )\n",
    "\n",
    "# Customize the plot\n",
    "plt.xlabel(\"Week\")\n",
    "plt.ylabel(\"Average veg_mean_ndvi\")\n",
    "plt.title(\"Weekly Average veg_mean_ndvi for \"+crop_selected+\" Irrigated (by Year)\")\n",
    "plt.legend(title=\"Year\", loc='upper right', frameon=True)\n",
    "plt.grid(True)\n",
    "plt.tight_layout()\n",
    "plt.ylim(.1, .8)\n",
    "\n",
    "\n",
    "# Show the plot\n",
    "plt.show()"
   ]
  },
  {
   "cell_type": "code",
   "execution_count": null,
   "id": "5b743b5d",
   "metadata": {},
   "outputs": [],
   "source": [
    "# plot pie chart of unique parcels belonging to each irrigation type\n",
    "def plot_pie_chart(df, title):\n",
    "    # Count unique parcels for each irrigation type\n",
    "    counts = df['Irrigation'].value_counts()\n",
    "\n",
    "    # Define custom colors: blue for Irrigated, orange for Rainfed\n",
    "    color_map = {'Irrigated': 'lightblue', 'Rainfed': 'orange'}\n",
    "    # Match the color order to the index order\n",
    "    colors = [color_map.get(label, 'gray') for label in counts.index]\n",
    "\n",
    "    # Create a pie chart\n",
    "    plt.figure(figsize=(5, 5))\n",
    "    plt.pie(counts, labels=counts.index, colors=colors,\n",
    "            autopct='%1.1f%%', startangle=140)\n",
    "    plt.title(title)\n",
    "    plt.axis('equal')  # Equal aspect ratio ensures that pie is drawn as a circle.\n",
    "    plt.show()\n",
    "\n",
    "# Example usage\n",
    "plot_pie_chart(df, f\"{crop_selected}\")\n",
    "\n"
   ]
  }
 ],
 "metadata": {
  "kernelspec": {
   "display_name": "geo",
   "language": "python",
   "name": "python3"
  },
  "language_info": {
   "codemirror_mode": {
    "name": "ipython",
    "version": 3
   },
   "file_extension": ".py",
   "mimetype": "text/x-python",
   "name": "python",
   "nbconvert_exporter": "python",
   "pygments_lexer": "ipython3",
   "version": "3.9.16"
  }
 },
 "nbformat": 4,
 "nbformat_minor": 5
}
